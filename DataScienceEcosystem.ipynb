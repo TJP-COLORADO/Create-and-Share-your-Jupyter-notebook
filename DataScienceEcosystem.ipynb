{
 "cells": [
  {
   "cell_type": "markdown",
   "id": "d886bf84-5b70-4b52-8426-deecadbbc1f0",
   "metadata": {
    "tags": []
   },
   "source": [
    "# Data Science Tools and Ecosystem."
   ]
  },
  {
   "cell_type": "markdown",
   "id": "29ea7039-49ed-4765-83fe-5577a4cd60df",
   "metadata": {},
   "source": [
    "In this notebook, Data Science Tools and Ecosystem are summarized."
   ]
  },
  {
   "cell_type": "markdown",
   "id": "12029b39-e0fe-4f4e-aca1-1966ee884d44",
   "metadata": {
    "tags": []
   },
   "source": [
    "***Objectives***\n",
    "+ Learn examples of the various libraries, APIs, and datasets used by Data Scientists\n",
    "+ Introduce Jupyter Notebook and how to work with kernels\n",
    "+ Describe cloud-based Jupyter environments and their data science features\n",
    "+ Describe R capabilities and RStudio environment"
   ]
  },
  {
   "cell_type": "markdown",
   "id": "17085927-52fe-42d8-9cbd-096d1d90bd72",
   "metadata": {},
   "source": [
    "Some of the popular languages that Data Scientists use are:\n",
    "1. Python\n",
    "2. R\n",
    "3. SQL"
   ]
  },
  {
   "cell_type": "markdown",
   "id": "03a9d0a1-9ced-4fda-a119-ff7fb61fe341",
   "metadata": {},
   "source": [
    "Some of the commonly used libraries used by Data Scientists include:\n",
    "1. Pandas\n",
    "2. NumPy\n",
    "3. Matplotlib\n",
    "4. Scikit-learn"
   ]
  },
  {
   "cell_type": "markdown",
   "id": "d010a2a1-a39d-42ad-8ec3-e7865c4729ab",
   "metadata": {},
   "source": [
    "|Data Science Tools|\n",
    "|---|\n",
    "|Jupyter Lab|\n",
    "|Apache Zeppelin|\n",
    "|R Studio|"
   ]
  },
  {
   "cell_type": "markdown",
   "id": "9a63a5f8-d810-40ed-b3f5-605b1cfc7e6c",
   "metadata": {},
   "source": [
    "### Below are a few examples of evaluating arithmetic expressions in Python"
   ]
  },
  {
   "cell_type": "code",
   "execution_count": 1,
   "id": "0a85394b-1cb4-4316-955a-fe3c2493be2c",
   "metadata": {
    "tags": []
   },
   "outputs": [
    {
     "data": {
      "text/plain": [
       "17"
      ]
     },
     "execution_count": 1,
     "metadata": {},
     "output_type": "execute_result"
    }
   ],
   "source": [
    "(3*4)+5"
   ]
  },
  {
   "cell_type": "markdown",
   "id": "f687aef0-2691-4b01-9eac-4f674b71bc65",
   "metadata": {},
   "source": [
    "This will convert 200 minutes to hours by dividing by 60"
   ]
  },
  {
   "cell_type": "code",
   "execution_count": 2,
   "id": "c4a16410-798c-4fcb-b164-9117bd50719f",
   "metadata": {
    "tags": []
   },
   "outputs": [
    {
     "data": {
      "text/plain": [
       "3.3333333333333335"
      ]
     },
     "execution_count": 2,
     "metadata": {},
     "output_type": "execute_result"
    }
   ],
   "source": [
    "200/60"
   ]
  },
  {
   "cell_type": "markdown",
   "id": "c9b221b9-f150-4fcc-89b6-22654c7b5f90",
   "metadata": {},
   "source": [
    "## Author\n",
    "Tyler Peters"
   ]
  },
  {
   "cell_type": "code",
   "execution_count": null,
   "id": "9b249b75-c18c-428c-8a46-1315e0722db6",
   "metadata": {},
   "outputs": [],
   "source": []
  }
 ],
 "metadata": {
  "kernelspec": {
   "display_name": "Python",
   "language": "python",
   "name": "conda-env-python-py"
  },
  "language_info": {
   "codemirror_mode": {
    "name": "ipython",
    "version": 3
   },
   "file_extension": ".py",
   "mimetype": "text/x-python",
   "name": "python",
   "nbconvert_exporter": "python",
   "pygments_lexer": "ipython3",
   "version": "3.7.12"
  }
 },
 "nbformat": 4,
 "nbformat_minor": 5
}
